{
  "nbformat": 4,
  "nbformat_minor": 0,
  "metadata": {
    "colab": {
      "name": "proth_prime.ipynb",
      "provenance": [],
      "collapsed_sections": [],
      "authorship_tag": "ABX9TyMA+p3eJflTXxrXNztGY5D6",
      "include_colab_link": true
    },
    "kernelspec": {
      "name": "python3",
      "display_name": "Python 3"
    }
  },
  "cells": [
    {
      "cell_type": "markdown",
      "metadata": {
        "id": "view-in-github",
        "colab_type": "text"
      },
      "source": [
        "<a href=\"https://colab.research.google.com/github/brian-o-mars/Research_assistant_crypto/blob/master/proth_prime.ipynb\" target=\"_parent\"><img src=\"https://colab.research.google.com/assets/colab-badge.svg\" alt=\"Open In Colab\"/></a>"
      ]
    },
    {
      "cell_type": "code",
      "metadata": {
        "id": "UhLNIuNqLZVb"
      },
      "source": [
        "#python program to check for a proth prime using proth's theorem\n",
        "def check():\n",
        "    p = int(input('enter a proth number'))\n",
        "    sqr = (p-1)//2\n",
        "    proth = []\n",
        "    for a in range(1,100):\n",
        "      x = (a**sqr)+ 1\n",
        "      if x % p == 0:\n",
        "        proth.append('A proth prime')\n",
        "      else:\n",
        "          continue\n",
        "    if len(proth) > 1:\n",
        "        print('Number is a proth prime')\n",
        "    else:\n",
        "        print('Number is not a proth prime')\n",
        "      \n",
        "      "
      ],
      "execution_count": 1,
      "outputs": []
    }
  ]
}